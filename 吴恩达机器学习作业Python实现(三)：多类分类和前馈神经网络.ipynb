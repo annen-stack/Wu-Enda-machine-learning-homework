{
 "cells": [
  {
   "cell_type": "markdown",
   "metadata": {},
   "source": [
    "X的维度是5000×400，表示有5000个样本，每个样本有400个特征（其实就是20×20的像素值）\n",
    "\n",
    "y的维度是5000×1，表示有5000个样本，每个样本对应1个标签（1到10共十种标签值，每种标签有500个样本）"
   ]
  },
  {
   "cell_type": "code",
   "execution_count": 3,
   "metadata": {
    "collapsed": false
   },
   "outputs": [
    {
     "ename": "SyntaxError",
     "evalue": "invalid syntax (<ipython-input-3-6253422d0c2b>, line 24)",
     "output_type": "error",
     "traceback": [
      "\u001b[0;36m  File \u001b[0;32m\"<ipython-input-3-6253422d0c2b>\"\u001b[0;36m, line \u001b[0;32m24\u001b[0m\n\u001b[0;31m    X=np.insert(raw_X,$x_0$,values=1,axis=1)\u001b[0m\n\u001b[0m                      ^\u001b[0m\n\u001b[0;31mSyntaxError\u001b[0m\u001b[0;31m:\u001b[0m invalid syntax\n"
     ]
    }
   ],
   "source": [
    "#导入数据集和库\n",
    "import numpy as np\n",
    "import matplotlib.pyplot as plt\n",
    "import scipy.io as sio\n",
    "data=sio.loadmat('ex3data1.mat')\n",
    "#手写数字图像可视化\n",
    "raw_X=data['X']\n",
    "raw_y=data['y']\n",
    "def plot_100_image(X):\n",
    "    sample_index=np.random.choice(len(X),100) #[2,6,7,8,22,...]\n",
    "    #images [[.....], 共有100个例子,images[0,...,99]\n",
    "    #        [.....],\n",
    "    #         [.....],]\n",
    "    images=X[sample_index,:] #选取该行，所有400=20*20列。对应一个样本\n",
    "    #创建绘图实例\n",
    "    fig,ax=plt.subplots(ncols=10,nrows=10,figsize=(5,5),shareX=True,sharey=True)\n",
    "    \n",
    "    for r in range(10):\n",
    "        for c in range(10): #将100个图像分成，10行乘以10列，每个图像大小为20*20\n",
    "            ax[r,c].imshow(images[10*r+c].reshape(20,20).T,cmap='gray_r')\n",
    "    plt.show\n",
    "#在本次练习值，我们利用scipy中的优化函数来自动优化模型参数，该函数可以根据输入的参数返回最终优化的参数集\n",
    "#构造数据集\n",
    "X=np.insert(raw_X,$x_0$,values=1,axis=1)\n",
    "y=raw_y.flatten()#使得到的y为一维数组\n",
    "#维度为X(5000,401) 5000个例子，401个特征，其中一个特征是专门插进去的\n",
    "#y(5000,)\n",
    "#定义代价函数\n",
    "def sigmoid(z):\n",
    "    return 1/(1+np.exp(-z))\n",
    "#代价函数J(theta),逻辑回归\n",
    "def costFunction(X,y,theta,lamda):\n",
    "    h_theta=sigmoid(X@theta)\n",
    "    first=y*np.log(A)\n",
    "    second=(1-y)*np.log(1-h_theta)\n",
    "    #正则化\n",
    "    reg=np.sum(np.power(theta[1:],2))*(lamda/(2*len(x)))\n",
    "    return -np.sum(first+second)/len(X)+reg\n",
    "#梯度下降，更新theta\n",
    "def gradient_reg(theta,X,y,lamda):\n",
    "    reg=theta[1:]*(lamda/len(X))#正则项\n",
    "    #将theta0全改为0，即插入在reg[0]中，values=0,列\n",
    "    reg=np.insert(reg,0,values=0,axis=0)\n",
    "    first=(X.T@(sigmoid(X@theta)-y))/len(X)\n",
    "    return first+reg\n",
    "#定义优化函数\n",
    "from scipy.optimize import minimize\n",
    "#K=10表示有10个分类器，401表示特征数量\n",
    "def one_vs_all(X,y,lamda,K):\n",
    "    #K为标签个数，n为特征数量，本例中为401\n",
    "    n=X.shape[1]\n",
    "    theta_all=np.zeros((K,n))\n",
    "    for i in range(1,K+1):\n",
    "        theta_i=np.zeros(n,) #第i个分类器的参数集\n",
    "        result=minimize(fun=costFunction,x0=theta_i,args=(X,y==i,lamda),method='TNC',jac=gradient_reg)\n",
    "        theta_all[i-1,:]=result.x\n",
    "    return theta_all\n",
    "\n",
    "#theta_all即输出为（10，401） 针对每个类别，输出一组theta(401),总共有10个类别\n",
    "lamda=1\n",
    "K=10\n",
    "theta_final=one_vs_all(X,y,lamda,K)\n",
    "\n",
    "#由于本例的样本是图像，无法像上一章那样通过绘图可以看出分类的准确率，只能靠计算得出\n",
    "def predict(X,theta_final):\n",
    "    # pro为对于每个例子的输出 （5000，401） （10，401）->(5000,10)\n",
    "    pro=sigmoid(X@theta_final.T)\n",
    "    h_argmax=np.argmax(h,axis=1) #每个样本取自己10个预测中最大的值作为预测值\n",
    "    return h_argmax+1\n",
    "\n",
    "y_pre=predict(X,theta_final)\n",
    "acc=np.mean(y_pre=y)\n",
    "    \n",
    "        \n",
    "        "
   ]
  },
  {
   "cell_type": "markdown",
   "metadata": {},
   "source": [
    "## 神经网络-前向传播"
   ]
  },
  {
   "cell_type": "code",
   "execution_count": null,
   "metadata": {
    "collapsed": true
   },
   "outputs": [],
   "source": [
    "import numpy as np\n",
    "import scipy.io as sio\n",
    "\n",
    "data = sio.loadmat('ex3data1.mat')\n",
    "raw_X = data['X'] # (5000,400)\n",
    "raw_y = data['y'] # (5000,1)\n",
    "\n",
    "X = np.insert(raw_X,0,values=1,axis=1) # (5000, 401)\n",
    "y = raw_y.flatten()\t\t\t\t\t   # (5000,)\n",
    "\n",
    "theta = sio.loadmat('ex3weights.mat')\n",
    "dict_keys(['__header__', '__version__', '__globals__', 'Theta1', 'Theta2'])\n",
    "\n",
    "theta1 = theta['Theta1'] # (25, 401)\n",
    "theta2 = theta['Theta2'] # (10, 26)\n",
    "# 定义激活函数\n",
    "def sigmoid(z):\n",
    "return 1/ (1 + np.exp(-z))\n",
    "\t\n",
    "# 输入层\n",
    "a1 = X # a1.shape=(5000, 401)\n",
    "\n",
    "# 隐藏层\n",
    "z2 = X @theta1.T # (5000, 401)(401, 25) = (5000, 25)\n",
    "a2 = sigmoid(z2) # a2.shape=(5000, 25)\n",
    "\n",
    "# 输出层\n",
    "a2 = np.insert(a2,0,values=1,axis=1) # (5000, 26)\n",
    "z3 = a2 @ theta2.T \t\t\t\t\t # (5000, 26)(26, 10) = (5000, 10)\n",
    "a3 = sigmoid(z3) \t\t\t\t\t # a3.shape=(5000, 10)\n",
    "\n",
    "# 同1.3节\n",
    "y_pre = np.argmax(a3,axis=1)\n",
    "y_pre = y_pre + 1\n",
    "\n",
    "# 计算分类准确率\n",
    "acc =  np.mean(y_pred == y)"
   ]
  }
 ],
 "metadata": {
  "anaconda-cloud": {},
  "kernelspec": {
   "display_name": "Python [conda root]",
   "language": "python",
   "name": "conda-root-py"
  },
  "language_info": {
   "codemirror_mode": {
    "name": "ipython",
    "version": 3
   },
   "file_extension": ".py",
   "mimetype": "text/x-python",
   "name": "python",
   "nbconvert_exporter": "python",
   "pygments_lexer": "ipython3",
   "version": "3.5.2"
  }
 },
 "nbformat": 4,
 "nbformat_minor": 1
}
