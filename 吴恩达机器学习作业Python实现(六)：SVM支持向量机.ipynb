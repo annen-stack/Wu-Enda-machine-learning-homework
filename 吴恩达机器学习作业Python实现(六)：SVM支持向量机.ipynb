{
 "cells": [
  {
   "cell_type": "code",
   "execution_count": 1,
   "metadata": {
    "collapsed": false
   },
   "outputs": [
    {
     "ename": "ImportError",
     "evalue": "No module named 'seaborn'",
     "output_type": "error",
     "traceback": [
      "\u001b[0;31m---------------------------------------------------------------------------\u001b[0m",
      "\u001b[0;31mImportError\u001b[0m                               Traceback (most recent call last)",
      "\u001b[0;32m<ipython-input-1-3a2a50f73c13>\u001b[0m in \u001b[0;36m<module>\u001b[0;34m()\u001b[0m\n\u001b[1;32m      3\u001b[0m \u001b[1;32mimport\u001b[0m \u001b[0mpandas\u001b[0m \u001b[1;32mas\u001b[0m \u001b[0mpd\u001b[0m\u001b[1;33m\u001b[0m\u001b[0m\n\u001b[1;32m      4\u001b[0m \u001b[1;32mimport\u001b[0m \u001b[0mmatplotlib\u001b[0m\u001b[1;33m.\u001b[0m\u001b[0mpyplot\u001b[0m \u001b[1;32mas\u001b[0m \u001b[0mplt\u001b[0m\u001b[1;33m\u001b[0m\u001b[0m\n\u001b[0;32m----> 5\u001b[0;31m \u001b[1;32mimport\u001b[0m \u001b[0mseaborn\u001b[0m \u001b[1;32mas\u001b[0m \u001b[0msb\u001b[0m\u001b[1;33m\u001b[0m\u001b[0m\n\u001b[0m\u001b[1;32m      6\u001b[0m \u001b[1;32mfrom\u001b[0m \u001b[0mscipy\u001b[0m\u001b[1;33m.\u001b[0m\u001b[0mio\u001b[0m \u001b[1;32mimport\u001b[0m \u001b[0mloadmat\u001b[0m\u001b[1;33m\u001b[0m\u001b[0m\n\u001b[1;32m      7\u001b[0m \u001b[1;32mfrom\u001b[0m \u001b[0msklearn\u001b[0m \u001b[1;32mimport\u001b[0m \u001b[0msvm\u001b[0m\u001b[1;33m\u001b[0m\u001b[0m\n",
      "\u001b[0;31mImportError\u001b[0m: No module named 'seaborn'"
     ]
    }
   ],
   "source": [
    "%matplotlib inline\n",
    "import numpy as np\n",
    "import pandas as pd\n",
    "import matplotlib.pyplot as plt\n",
    "import seaborn as sb\n",
    "from scipy.io import loadmat\n",
    "from sklearn import svm\n",
    "\n",
    "mat = loadmat('./data/ex6data1.mat')\n",
    "print(mat.keys())\n",
    "X=mat['X'] #二维\n",
    "y=mat['y']\n",
    "def plotData(X,y):\n",
    "    plt.figure(figsize=(8,5))\n",
    "    plt.scatter(X[:,0],X[:,1],c=y.flatten(),cmap='rainbow') \n",
    "    plt.xlabel('X1')\n",
    "    plt.ylabel('X2')\n",
    "plotData(X,y)\n",
    "from sklearn.svm import SVC\n",
    "svc1 = SVC(C=1,kernel='linear')\n",
    "svc1.fit(X,y.flatten()) #X为特征，y为1/0\n",
    "svc1.score(X,y.flatten()) #分类器的准确率\n",
    "\n",
    "#绘制决策边界\n",
    "def plot_boundary(model):\n",
    "    x_min,x_max=-0.5,4.5\n",
    "    y_min,y_max=1.3,5\n",
    "    xx,yy=np.meshgrid(np.linspace(x_min,x_max,500),np.linspace(y_min,y_max,500))\n",
    "    #绘制决策边界\n",
    "    z=model.predict(np.c_[xx.flatten(),yy.flatten()])\n",
    "    zz=z.reshape(xx.shape)\n",
    "    plt.contour(xx,y,zz)\n",
    "plot_boundary(svc1)\n",
    "plot_data()\n",
    "\n",
    "\n",
    "#当C=100\n",
    "svc100 = SVC(C=100,kernel='linear')\n",
    "svc100.fit(X,y.flatten())\n",
    "\n",
    "svc100.score(X,y.flatten())\n",
    "\n",
    "\n",
    "#绘制决策边界\n",
    "plot_boundary(svc100)\n",
    "plot_data()\n",
    "\n",
    "\n",
    "#结论\n",
    "#误差惩罚系数C越大，容易过拟合，容错率越低"
   ]
  },
  {
   "cell_type": "markdown",
   "metadata": {},
   "source": [
    "## 2. 非线性 SVM\n",
    "任务\n",
    "使用**高斯核函数**解决线性不可分问题，并观察 \n",
    "σ\n",
    "σ \\sigma\n",
    "σ 取值对模型复杂度的影响。"
   ]
  },
  {
   "cell_type": "code",
   "execution_count": 2,
   "metadata": {
    "collapsed": false
   },
   "outputs": [
    {
     "ename": "NameError",
     "evalue": "name 'sio' is not defined",
     "output_type": "error",
     "traceback": [
      "\u001b[0;31m---------------------------------------------------------------------------\u001b[0m",
      "\u001b[0;31mNameError\u001b[0m                                 Traceback (most recent call last)",
      "\u001b[0;32m<ipython-input-2-3dc34f15eb0c>\u001b[0m in \u001b[0;36m<module>\u001b[0;34m()\u001b[0m\n\u001b[1;32m      1\u001b[0m \u001b[1;31m#导入数据\u001b[0m\u001b[1;33m\u001b[0m\u001b[1;33m\u001b[0m\u001b[0m\n\u001b[0;32m----> 2\u001b[0;31m \u001b[0mdata\u001b[0m \u001b[1;33m=\u001b[0m \u001b[0msio\u001b[0m\u001b[1;33m.\u001b[0m\u001b[0mloadmat\u001b[0m\u001b[1;33m(\u001b[0m\u001b[1;34m'./data/ex6data2.mat'\u001b[0m\u001b[1;33m)\u001b[0m\u001b[1;33m\u001b[0m\u001b[0m\n\u001b[0m\u001b[1;32m      3\u001b[0m \u001b[0mX\u001b[0m\u001b[1;33m,\u001b[0m\u001b[0my\u001b[0m \u001b[1;33m=\u001b[0m \u001b[0mdata\u001b[0m\u001b[1;33m[\u001b[0m\u001b[1;34m'X'\u001b[0m\u001b[1;33m]\u001b[0m\u001b[1;33m,\u001b[0m\u001b[0mdata\u001b[0m\u001b[1;33m[\u001b[0m\u001b[1;34m'y'\u001b[0m\u001b[1;33m]\u001b[0m\u001b[1;33m\u001b[0m\u001b[0m\n\u001b[1;32m      4\u001b[0m \u001b[1;33m\u001b[0m\u001b[0m\n\u001b[1;32m      5\u001b[0m \u001b[1;32mdef\u001b[0m \u001b[0mplot_data\u001b[0m\u001b[1;33m(\u001b[0m\u001b[1;33m)\u001b[0m\u001b[1;33m:\u001b[0m\u001b[1;33m\u001b[0m\u001b[0m\n",
      "\u001b[0;31mNameError\u001b[0m: name 'sio' is not defined"
     ]
    }
   ],
   "source": [
    "#导入数据\n",
    "data = sio.loadmat('./data/ex6data2.mat')\n",
    "X,y = data['X'],data['y']\n",
    "\n",
    "def plot_data():\n",
    "    plt.scatter(X[:,0],X[:,1],c = y.flatten(), cmap ='jet')\n",
    "    plt.xlabel('x1')\n",
    "    plt.ylabel('y1')\n",
    "\n",
    "plot_data() # 绘制原始数据\n",
    "\n"
   ]
  },
  {
   "cell_type": "markdown",
   "metadata": {},
   "source": [
    "对于非线性图像进行分割，仍然采用sklearn库函数，我们将参数值重新设置下，由于采用高斯核函数，则kernel='rbf'  其中gamma初始化为1 ，其余步骤与线性可分图像一致。"
   ]
  },
  {
   "cell_type": "code",
   "execution_count": 3,
   "metadata": {
    "collapsed": false
   },
   "outputs": [
    {
     "ename": "NameError",
     "evalue": "name 'SVC' is not defined",
     "output_type": "error",
     "traceback": [
      "\u001b[0;31m---------------------------------------------------------------------------\u001b[0m",
      "\u001b[0;31mNameError\u001b[0m                                 Traceback (most recent call last)",
      "\u001b[0;32m<ipython-input-3-ea709039ae92>\u001b[0m in \u001b[0;36m<module>\u001b[0;34m()\u001b[0m\n\u001b[0;32m----> 1\u001b[0;31m \u001b[0msvc1\u001b[0m \u001b[1;33m=\u001b[0m \u001b[0mSVC\u001b[0m\u001b[1;33m(\u001b[0m\u001b[0mC\u001b[0m\u001b[1;33m=\u001b[0m\u001b[1;36m1\u001b[0m\u001b[1;33m,\u001b[0m\u001b[0mkernel\u001b[0m\u001b[1;33m=\u001b[0m\u001b[1;34m'rbf'\u001b[0m\u001b[1;33m,\u001b[0m\u001b[0mgamma\u001b[0m\u001b[1;33m=\u001b[0m\u001b[1;36m1\u001b[0m\u001b[1;33m)\u001b[0m \u001b[1;31m#实例化分类器，C为误差项惩罚系数，核函数选择高斯核\u001b[0m\u001b[1;33m\u001b[0m\u001b[0m\n\u001b[0m\u001b[1;32m      2\u001b[0m \u001b[0msvc1\u001b[0m\u001b[1;33m.\u001b[0m\u001b[0mfit\u001b[0m\u001b[1;33m(\u001b[0m\u001b[0mX\u001b[0m\u001b[1;33m,\u001b[0m\u001b[0my\u001b[0m\u001b[1;33m.\u001b[0m\u001b[0mflatten\u001b[0m\u001b[1;33m(\u001b[0m\u001b[1;33m)\u001b[0m\u001b[1;33m)\u001b[0m                                 \u001b[1;31m#导入数据进行训练\u001b[0m\u001b[1;33m\u001b[0m\u001b[0m\n\u001b[1;32m      3\u001b[0m \u001b[1;33m\u001b[0m\u001b[0m\n\u001b[1;32m      4\u001b[0m \u001b[0msvc1\u001b[0m\u001b[1;33m.\u001b[0m\u001b[0mscore\u001b[0m\u001b[1;33m(\u001b[0m\u001b[0mX\u001b[0m\u001b[1;33m,\u001b[0m\u001b[0my\u001b[0m\u001b[1;33m.\u001b[0m\u001b[0mflatten\u001b[0m\u001b[1;33m(\u001b[0m\u001b[1;33m)\u001b[0m\u001b[1;33m)\u001b[0m                       \u001b[1;31m#分类器的准确率\u001b[0m\u001b[1;33m\u001b[0m\u001b[0m\n\u001b[1;32m      5\u001b[0m \u001b[1;33m\u001b[0m\u001b[0m\n",
      "\u001b[0;31mNameError\u001b[0m: name 'SVC' is not defined"
     ]
    }
   ],
   "source": [
    "svc1 = SVC(C=1,kernel='rbf',gamma=1) #实例化分类器，C为误差项惩罚系数，核函数选择高斯核\n",
    "svc1.fit(X,y.flatten())\t\t\t\t\t#导入数据进行训练\n",
    "\n",
    "svc1.score(X,y.flatten())\t\t\t#分类器的准确率\n",
    "\n",
    "# 绘制决策边界\n",
    "def plot_boundary(model):\n",
    "    x_min,x_max = 0,1\n",
    "    y_min,y_max = 0.4,1\n",
    "    xx,yy = np.meshgrid(np.linspace(x_min,x_max,500),\n",
    "                       np.linspace(y_min,y_max,500))\n",
    "    z = model.predict(np.c_[xx.flatten(),yy.flatten()])\n",
    "    \n",
    "    zz = z.reshape(xx.shape)\n",
    "    plt.contour(xx,yy,zz)\n",
    "\n",
    "plot_boundary(svc1)\n",
    "plot_data()\n"
   ]
  },
  {
   "cell_type": "markdown",
   "metadata": {},
   "source": [
    "改变核函数中不同的sigmma,观察曲线的拟合情况。\n",
    "### 结论\n",
    "\n",
    "σ 值越大，模型复杂度越高，同时也越易过拟合\n",
    "\n",
    "σ 值越小，模型复杂度越低，同时也越易欠拟合"
   ]
  },
  {
   "cell_type": "markdown",
   "metadata": {},
   "source": [
    "## 3. 寻找最优参数 C 和 \n"
   ]
  },
  {
   "cell_type": "code",
   "execution_count": 6,
   "metadata": {
    "collapsed": false
   },
   "outputs": [
    {
     "ename": "NameError",
     "evalue": "name 'SVC' is not defined",
     "output_type": "error",
     "traceback": [
      "\u001b[0;31m---------------------------------------------------------------------------\u001b[0m",
      "\u001b[0;31mNameError\u001b[0m                                 Traceback (most recent call last)",
      "\u001b[0;32m<ipython-input-6-ce67a2fdb66f>\u001b[0m in \u001b[0;36m<module>\u001b[0;34m()\u001b[0m\n\u001b[1;32m      9\u001b[0m \u001b[1;32mfor\u001b[0m \u001b[0mc\u001b[0m \u001b[1;32min\u001b[0m \u001b[0mCvalues\u001b[0m\u001b[1;33m:\u001b[0m\u001b[1;33m\u001b[0m\u001b[0m\n\u001b[1;32m     10\u001b[0m     \u001b[1;32mfor\u001b[0m \u001b[0mgamma\u001b[0m \u001b[1;32min\u001b[0m \u001b[0mgammas\u001b[0m\u001b[1;33m:\u001b[0m\u001b[1;33m\u001b[0m\u001b[0m\n\u001b[0;32m---> 11\u001b[0;31m         \u001b[0msvc\u001b[0m\u001b[1;33m=\u001b[0m\u001b[0mSVC\u001b[0m\u001b[1;33m(\u001b[0m\u001b[0mC\u001b[0m\u001b[1;33m=\u001b[0m\u001b[0mc\u001b[0m\u001b[1;33m,\u001b[0m\u001b[0mkernel\u001b[0m\u001b[1;33m=\u001b[0m\u001b[1;34m'rbf'\u001b[0m\u001b[1;33m,\u001b[0m\u001b[0mgamma\u001b[0m\u001b[1;33m=\u001b[0m\u001b[0mgamma\u001b[0m\u001b[1;33m)\u001b[0m \u001b[1;31m#高斯\u001b[0m\u001b[1;33m\u001b[0m\u001b[0m\n\u001b[0m\u001b[1;32m     12\u001b[0m         \u001b[0msvc\u001b[0m\u001b[1;33m.\u001b[0m\u001b[0mfit\u001b[0m\u001b[1;33m(\u001b[0m\u001b[0mX\u001b[0m\u001b[1;33m,\u001b[0m\u001b[0my\u001b[0m\u001b[1;33m.\u001b[0m\u001b[0mflatten\u001b[0m\u001b[1;33m(\u001b[0m\u001b[1;33m)\u001b[0m\u001b[1;33m)\u001b[0m\u001b[1;33m\u001b[0m\u001b[0m\n\u001b[1;32m     13\u001b[0m         \u001b[0mscore\u001b[0m\u001b[1;33m=\u001b[0m\u001b[0msvc\u001b[0m\u001b[1;33m.\u001b[0m\u001b[0mscore\u001b[0m\u001b[1;33m(\u001b[0m\u001b[0mX\u001b[0m\u001b[1;33m,\u001b[0m\u001b[0my\u001b[0m\u001b[1;33m.\u001b[0m\u001b[0mflatten\u001b[0m\u001b[1;33m(\u001b[0m\u001b[1;33m)\u001b[0m\u001b[1;33m)\u001b[0m\u001b[1;33m\u001b[0m\u001b[0m\n",
      "\u001b[0;31mNameError\u001b[0m: name 'SVC' is not defined"
     ]
    }
   ],
   "source": [
    "# C 和 σ 的候选值\n",
    "Cvalues = [3, 10, 30, 100,0.01, 0.03, 0.1, 0.3,1 ]  #9\n",
    "gammas =  [1 ,3, 10, 30, 100,0.01, 0.03, 0.1, 0.3]  #9\n",
    "\n",
    "#获取最佳准确率和最优参数值，C和gammas\n",
    "best_score=0\n",
    "best_params=(0,0)\n",
    "\n",
    "for c in Cvalues:\n",
    "    for gamma in gammas:\n",
    "        svc=SVC(C=c,kernel='rbf',gamma=gamma) #高斯\n",
    "        svc.fit(X,y.flatten())\n",
    "        score=svc.score(X,y.flatten())\n",
    "        if score>best_score:\n",
    "            best_score=score\n",
    "            best_params=(c,gamma)\n",
    "            "
   ]
  },
  {
   "cell_type": "markdown",
   "metadata": {},
   "source": [
    "## 4. 垃圾邮件过滤问题_SVM"
   ]
  },
  {
   "cell_type": "code",
   "execution_count": 8,
   "metadata": {
    "collapsed": false
   },
   "outputs": [
    {
     "ename": "SyntaxError",
     "evalue": "unexpected EOF while parsing (<ipython-input-8-706d0978e2d6>, line 22)",
     "output_type": "error",
     "traceback": [
      "\u001b[0;36m  File \u001b[0;32m\"<ipython-input-8-706d0978e2d6>\"\u001b[0;36m, line \u001b[0;32m22\u001b[0m\n\u001b[0;31m    \u001b[0m\n\u001b[0m    ^\u001b[0m\n\u001b[0;31mSyntaxError\u001b[0m\u001b[0;31m:\u001b[0m unexpected EOF while parsing\n"
     ]
    }
   ],
   "source": [
    "data1=sio.loadmat('data/spamTrain.mat')\n",
    "X,y=data1['X'],data1['y']\n",
    "\n",
    "data2=sio.loadmat('data/spamTest.mat')\n",
    "Xtest,ytest=data2['Xtest'],data2['ytest']\n",
    "\n",
    "X.shape,y.shape #之前描述的X有两个特征，现在X有1899个特征，y仍然为二分类\n",
    "#((4000,1899),(4000,1))\n",
    "#X每一行代表一个邮件样本，每个样本有1899个特征，特征为1表示在跟垃圾邮件有关的语义库中找到相关单词\n",
    "#y每一行代表一个邮件样本，等于1表示为垃圾邮件\n",
    "#候选的C值\n",
    "Cvalues=[3,10,30,100,0.01,0.03,0.1,0.3,1]\n",
    "best_score=0\n",
    "best_param=0\n",
    "\n",
    "for c in Cvalues: #变换不同的参数找到最佳的SVC参数设置\n",
    "    svc=SVC(C=c,kernel-'linear') #1. 设置SVC属性\n",
    "    svc.fit(X,y.flatten())#2. 对数据集进行训练\n",
    "    #用验证集数据进行评分\n",
    "    score=svc.score(Xtest,ytest.flatten())#3. 对数据集进行评分\n",
    "    if score>best_score:\n",
    "        best_score=score\n",
    "        best_param=c\n",
    "# 带入最佳参数\n",
    "svc = SVC(0.03,kernel='linear')\n",
    "svc.fit(X,y.flatten())\n",
    "score_train= svc.score(X,y.flatten())\n",
    "score_test= svc.score(Xtest,ytest.flatten())\n",
    "\n",
    "    "
   ]
  },
  {
   "cell_type": "markdown",
   "metadata": {},
   "source": [
    "## 邮件预处理\n"
   ]
  },
  {
   "cell_type": "code",
   "execution_count": null,
   "metadata": {
    "collapsed": true
   },
   "outputs": [],
   "source": [
    "with open('data/emailSample1.txt','r') as f:\n",
    "    sample_email=f.read()\n",
    "    print(sample_email)\n",
    "import numpy as np\n",
    "import matplotlib.pyplot as plt\n",
    "from scipy.io import loadmat\n",
    "from sklearn import svm\n",
    "import nltk.stem as ns\n",
    "import re\n",
    "\n",
    "def preprocessing(email):\n",
    "    \n",
    "    # 1. 统一成小写\n",
    "    email = email.lower()\n",
    "    \n",
    "    #2. 去除html标签\n",
    "    email = re.sub('<[^<>]>', ' ', email)\n",
    "    \n",
    "    #3. 将网址替换为字符串 “httpaddr”.\n",
    "    email = re.sub('(http|https)://[^\\s]*', 'httpaddr', email ) \n",
    "    \n",
    "    #4. 将邮箱地址替换为 “emailaddr”\n",
    "    email = re.sub('[^\\s]+@[^\\s]+', 'emailaddr', email)\n",
    "    \n",
    "     # 5.所有dollar符号($)替换为“dollar”.\n",
    "    email = re.sub('[\\$]+', 'dollar', email) \n",
    "    \n",
    "    # 6.匹配数字，将数字替换为“number”\n",
    "    email = re.sub('[0-9]+', 'number', email) # 匹配一个数字， 相当于 [0-9]，+ 匹配1到多次\n",
    "    \n",
    "    # 7. 词干提取\n",
    "    tokens = re.split('[ \\@\\$\\/\\#\\.\\-\\:\\&\\*\\+\\=\\[\\]\\?\\!\\(\\)\\{\\}\\,\\'\\\"\\>\\_\\<\\;\\%]', email)\n",
    "    tokenlist=[]\n",
    "\n",
    "    s = ns.SnowballStemmer('english')\n",
    "        \n",
    "    for token in tokens:\n",
    "        \n",
    "        # 8. 移除非文字类型\n",
    "        email  = re.sub('[^a-zA-Z0-9]', '', email)\n",
    "        stemmed = s.stem(token)\n",
    "    \n",
    "        # 9.去除空字符串‘’\n",
    "        if not len(token): continue\n",
    "        tokenlist.append(stemmed)  \n",
    "        \n",
    "    return tokenlist\n",
    "\n",
    "    "
   ]
  }
 ],
 "metadata": {
  "anaconda-cloud": {},
  "kernelspec": {
   "display_name": "Python [conda root]",
   "language": "python",
   "name": "conda-root-py"
  },
  "language_info": {
   "codemirror_mode": {
    "name": "ipython",
    "version": 3
   },
   "file_extension": ".py",
   "mimetype": "text/x-python",
   "name": "python",
   "nbconvert_exporter": "python",
   "pygments_lexer": "ipython3",
   "version": "3.5.2"
  }
 },
 "nbformat": 4,
 "nbformat_minor": 1
}
